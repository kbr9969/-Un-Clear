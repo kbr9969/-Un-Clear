{
 "metadata": {
  "language_info": {
   "codemirror_mode": {
    "name": "ipython",
    "version": 3
   },
   "file_extension": ".py",
   "mimetype": "text/x-python",
   "name": "python",
   "nbconvert_exporter": "python",
   "pygments_lexer": "ipython3",
   "version": "3.7.9"
  },
  "orig_nbformat": 2,
  "kernelspec": {
   "name": "python379jvsc74a57bd00600588c3b5f4418cbe7b5ebc6825b479f3bc010269d8b60d75058cdd010adfe",
   "display_name": "Python 3.7.9 64-bit"
  },
  "metadata": {
   "interpreter": {
    "hash": "0600588c3b5f4418cbe7b5ebc6825b479f3bc010269d8b60d75058cdd010adfe"
   }
  }
 },
 "nbformat": 4,
 "nbformat_minor": 2,
 "cells": [
  {
   "cell_type": "code",
   "execution_count": 2,
   "metadata": {},
   "outputs": [],
   "source": [
    "import tensorflow as tf\n",
    "import os\n",
    "import matplotlib.pyplot as plt\n",
    "import numpy as np\n",
    "import pandas as pd"
   ]
  },
  {
   "cell_type": "code",
   "execution_count": 14,
   "metadata": {},
   "outputs": [],
   "source": [
    "x_test = pd.read_csv(\"venv//test.csv\")\n",
    "x_test = np.array(x_test)"
   ]
  },
  {
   "cell_type": "code",
   "execution_count": 10,
   "metadata": {},
   "outputs": [],
   "source": [
    "df = pd.read_csv(\"venv//train.csv\")\n",
    "df.head()\n",
    "x_train = pd.read_csv(\"venv//train.csv\").drop('label',axis= 1)\n",
    "l_train = pd.read_csv(\"venv//train.csv\").loc[:,'label']\n"
   ]
  },
  {
   "cell_type": "code",
   "execution_count": 11,
   "metadata": {},
   "outputs": [],
   "source": [
    "x_train = np.array(x_train)\n",
    "l_train = np.array(l_train)"
   ]
  },
  {
   "cell_type": "code",
   "execution_count": 16,
   "metadata": {},
   "outputs": [],
   "source": [
    "x_train = x_train.reshape(len(x_train), 28,28,1)\n",
    "x_test = x_test.reshape(len(x_test), 28,28,1)"
   ]
  },
  {
   "cell_type": "code",
   "execution_count": 24,
   "metadata": {},
   "outputs": [],
   "source": [
    "model = tf.keras.models.Sequential([\n",
    "    tf.keras.layers.Conv2D(32, (3,3), activation='relu', input_shape=(28, 28, 1)),\n",
    "    tf.keras.layers.MaxPooling2D(2, 2),\n",
    "\n",
    "    tf.keras.layers.Conv2D(64, (3,3), activation='relu'),\n",
    "    tf.keras.layers.MaxPooling2D(2,2),\n",
    "    \n",
    "    tf.keras.layers.Conv2D(256, (3,3), activation='relu'),\n",
    "    tf.keras.layers.MaxPooling2D(2,2),\n",
    "    \n",
    "    tf.keras.layers.Flatten(),\n",
    "    tf.keras.layers.Dense(512, activation='relu'),\n",
    "    tf.keras.layers.Dense(10, activation = 'softmax')\n",
    "])"
   ]
  },
  {
   "cell_type": "code",
   "execution_count": 25,
   "metadata": {},
   "outputs": [],
   "source": [
    "model.compile(optimizer='adam',\n",
    "              loss=tf.keras.losses.SparseCategoricalCrossentropy(from_logits=True),\n",
    "              metrics=['accuracy'])"
   ]
  },
  {
   "cell_type": "code",
   "execution_count": 26,
   "metadata": {},
   "outputs": [
    {
     "output_type": "stream",
     "name": "stdout",
     "text": [
      "Epoch 1/30\n",
      "329/329 [==============================] - 8s 22ms/step - loss: 0.6201 - accuracy: 0.9009\n",
      "Epoch 2/30\n",
      "329/329 [==============================] - 7s 21ms/step - loss: 0.0765 - accuracy: 0.9758\n",
      "Epoch 3/30\n",
      "329/329 [==============================] - 7s 20ms/step - loss: 0.0539 - accuracy: 0.9826\n",
      "Epoch 4/30\n",
      "329/329 [==============================] - 7s 20ms/step - loss: 0.0395 - accuracy: 0.9872\n",
      "Epoch 5/30\n",
      "329/329 [==============================] - 6s 20ms/step - loss: 0.0342 - accuracy: 0.9884\n",
      "Epoch 6/30\n",
      "329/329 [==============================] - 6s 19ms/step - loss: 0.0313 - accuracy: 0.9902\n",
      "Epoch 7/30\n",
      "329/329 [==============================] - 6s 20ms/step - loss: 0.0236 - accuracy: 0.9920\n",
      "Epoch 8/30\n",
      "329/329 [==============================] - 7s 22ms/step - loss: 0.0248 - accuracy: 0.9918\n",
      "Epoch 9/30\n",
      "329/329 [==============================] - 7s 20ms/step - loss: 0.0234 - accuracy: 0.9922\n",
      "Epoch 10/30\n",
      "329/329 [==============================] - 6s 18ms/step - loss: 0.0191 - accuracy: 0.9936\n",
      "Epoch 11/30\n",
      "329/329 [==============================] - 6s 18ms/step - loss: 0.0211 - accuracy: 0.9935\n",
      "Epoch 12/30\n",
      "329/329 [==============================] - 6s 19ms/step - loss: 0.0173 - accuracy: 0.9945\n",
      "Epoch 13/30\n",
      "329/329 [==============================] - 6s 19ms/step - loss: 0.0274 - accuracy: 0.9919\n",
      "Epoch 14/30\n",
      "329/329 [==============================] - 6s 18ms/step - loss: 0.0126 - accuracy: 0.9955\n",
      "Epoch 15/30\n",
      "329/329 [==============================] - 6s 18ms/step - loss: 0.0137 - accuracy: 0.9955\n",
      "Epoch 16/30\n",
      "329/329 [==============================] - 6s 18ms/step - loss: 0.0171 - accuracy: 0.9947\n",
      "Epoch 17/30\n",
      "329/329 [==============================] - 7s 20ms/step - loss: 0.0167 - accuracy: 0.9949\n",
      "Epoch 18/30\n",
      "329/329 [==============================] - 7s 21ms/step - loss: 0.0124 - accuracy: 0.9962\n",
      "Epoch 19/30\n",
      "329/329 [==============================] - 6s 19ms/step - loss: 0.0186 - accuracy: 0.9945\n",
      "Epoch 20/30\n",
      "329/329 [==============================] - 7s 21ms/step - loss: 0.0097 - accuracy: 0.9974\n",
      "Epoch 21/30\n",
      "329/329 [==============================] - 7s 21ms/step - loss: 0.0108 - accuracy: 0.9966\n",
      "Epoch 22/30\n",
      "329/329 [==============================] - 7s 21ms/step - loss: 0.0174 - accuracy: 0.9947\n",
      "Epoch 23/30\n",
      "329/329 [==============================] - 7s 21ms/step - loss: 0.0158 - accuracy: 0.9957\n",
      "Epoch 24/30\n",
      "329/329 [==============================] - 7s 21ms/step - loss: 0.0148 - accuracy: 0.9952\n",
      "Epoch 25/30\n",
      "329/329 [==============================] - 7s 21ms/step - loss: 0.0137 - accuracy: 0.9959\n",
      "Epoch 26/30\n",
      "329/329 [==============================] - 7s 22ms/step - loss: 0.0147 - accuracy: 0.9957\n",
      "Epoch 27/30\n",
      "329/329 [==============================] - 7s 20ms/step - loss: 0.0056 - accuracy: 0.9985\n",
      "Epoch 28/30\n",
      "329/329 [==============================] - 6s 18ms/step - loss: 0.0053 - accuracy: 0.9983\n",
      "Epoch 29/30\n",
      "329/329 [==============================] - 7s 20ms/step - loss: 0.0177 - accuracy: 0.9950\n",
      "Epoch 30/30\n",
      "329/329 [==============================] - 6s 19ms/step - loss: 0.0118 - accuracy: 0.9968\n"
     ]
    },
    {
     "output_type": "execute_result",
     "data": {
      "text/plain": [
       "<tensorflow.python.keras.callbacks.History at 0x1ef51236048>"
      ]
     },
     "metadata": {},
     "execution_count": 26
    }
   ],
   "source": [
    "model.fit(x_train, l_train, batch_size=128, epochs=30)"
   ]
  },
  {
   "cell_type": "code",
   "execution_count": 28,
   "metadata": {},
   "outputs": [],
   "source": [
    "results = np.argmax(model.predict(x_test), axis= 1)"
   ]
  },
  {
   "cell_type": "code",
   "execution_count": 30,
   "metadata": {},
   "outputs": [
    {
     "output_type": "execute_result",
     "data": {
      "text/plain": [
       "0    2\n",
       "1    0\n",
       "2    9\n",
       "3    9\n",
       "4    3\n",
       "Name: Label, dtype: int64"
      ]
     },
     "metadata": {},
     "execution_count": 30
    }
   ],
   "source": [
    "results = pd.Series(results, name=\"Label\")\n",
    "results.head()"
   ]
  },
  {
   "cell_type": "code",
   "execution_count": 32,
   "metadata": {},
   "outputs": [],
   "source": [
    "list=[]\n",
    "for i in range(1,28001):\n",
    "    list.append(i)\n",
    "ImgID = pd.Series(list, name=\"ImageID\")\n"
   ]
  },
  {
   "cell_type": "code",
   "execution_count": 36,
   "metadata": {},
   "outputs": [],
   "source": [
    "submission = pd.concat([ImgID,results], axis=1)\n",
    "submission.to_csv(\"final.csv\",index = False)"
   ]
  },
  {
   "cell_type": "code",
   "execution_count": null,
   "metadata": {},
   "outputs": [],
   "source": []
  }
 ]
}